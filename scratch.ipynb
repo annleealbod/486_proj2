{
 "cells": [
  {
   "cell_type": "code",
   "execution_count": 28,
   "metadata": {},
   "outputs": [],
   "source": [
    "import os\n",
    "import numpy as np\n",
    "import pandas as pd\n",
    "from PIL import Image\n",
    "from sklearn.model_selection import train_test_split\n",
    "from tensorflow.keras.preprocessing.image import ImageDataGenerator\n",
    "from tensorflow.keras.models import Sequential\n",
    "from tensorflow.keras.layers import Conv2D, MaxPooling2D, Flatten, Dense"
   ]
  },
  {
   "cell_type": "code",
   "execution_count": 27,
   "metadata": {},
   "outputs": [
    {
     "name": "stdout",
     "output_type": "stream",
     "text": [
      "Found 2591 validated image filenames belonging to 5 classes.\n",
      "Found 863 validated image filenames belonging to 5 classes.\n"
     ]
    }
   ],
   "source": [
    "images_dir = \"training/training\"\n",
    "labels = pd.read_csv(\"training_labels.csv\")\n",
    "\n",
    "# add the directory to the filename\n",
    "labels['ID'] = labels['ID'].apply(lambda x: os.path.join(images_dir, x))\n",
    "\n",
    "# Initialize the ImageDataGenerator\n",
    "# You can change the size of the validation split (0.25 is 25% of data used as validation set)\n",
    "datagen = ImageDataGenerator(rescale=1./255, validation_split=0.25)\n",
    "\n",
    "# Create the training and validation generators\n",
    "train_generator = datagen.flow_from_dataframe(\n",
    "    dataframe=labels,\n",
    "    directory=None,  \n",
    "    x_col='ID',\n",
    "    y_col='target',\n",
    "    target_size=(224, 224), # You can change the size of the image\n",
    "    batch_size=32, # You can change the batch_size\n",
    "    class_mode='categorical',  \n",
    "    subset='training'\n",
    ")\n",
    "\n",
    "validation_generator = datagen.flow_from_dataframe(\n",
    "    dataframe=labels,\n",
    "    directory=None,  \n",
    "    x_col='ID',\n",
    "    y_col='target',\n",
    "    target_size=(224, 224), # Should match training size\n",
    "    batch_size=32, # Should match training\n",
    "    class_mode='categorical',  \n",
    "    subset='validation'\n",
    ")"
   ]
  },
  {
   "cell_type": "code",
   "execution_count": 29,
   "metadata": {},
   "outputs": [],
   "source": [
    "# Build the CNN model\n",
    "model = Sequential([\n",
    "    Conv2D(32, (3, 3), activation='relu', input_shape=(224, 224, 3)),\n",
    "    MaxPooling2D((2, 2)),\n",
    "    Conv2D(64, (3, 3), activation='relu'),\n",
    "    MaxPooling2D((2, 2)),\n",
    "    Conv2D(128, (3, 3), activation='relu'),\n",
    "    MaxPooling2D((2, 2)),\n",
    "    Flatten(),\n",
    "    Dense(128, activation='relu'),\n",
    "    Dense(5, activation='softmax')  # Assuming 5 classes of flowers\n",
    "])"
   ]
  },
  {
   "cell_type": "code",
   "execution_count": 30,
   "metadata": {},
   "outputs": [
    {
     "name": "stdout",
     "output_type": "stream",
     "text": [
      "Epoch 1/10\n",
      "WARNING:tensorflow:From c:\\Users\\annab\\AppData\\Local\\Programs\\Python\\Python311\\Lib\\site-packages\\keras\\src\\utils\\tf_utils.py:492: The name tf.ragged.RaggedTensorValue is deprecated. Please use tf.compat.v1.ragged.RaggedTensorValue instead.\n",
      "\n",
      "WARNING:tensorflow:From c:\\Users\\annab\\AppData\\Local\\Programs\\Python\\Python311\\Lib\\site-packages\\keras\\src\\engine\\base_layer_utils.py:384: The name tf.executing_eagerly_outside_functions is deprecated. Please use tf.compat.v1.executing_eagerly_outside_functions instead.\n",
      "\n",
      "80/80 [==============================] - 134s 2s/step - loss: 1.3766 - accuracy: 0.4193 - val_loss: 1.1699 - val_accuracy: 0.4700\n",
      "Epoch 2/10\n",
      "80/80 [==============================] - 91s 1s/step - loss: 1.0529 - accuracy: 0.5729 - val_loss: 1.0697 - val_accuracy: 0.5877\n",
      "Epoch 3/10\n",
      "80/80 [==============================] - 90s 1s/step - loss: 0.8587 - accuracy: 0.6702 - val_loss: 1.1198 - val_accuracy: 0.5769\n",
      "Epoch 4/10\n",
      "80/80 [==============================] - 90s 1s/step - loss: 0.6662 - accuracy: 0.7405 - val_loss: 1.0068 - val_accuracy: 0.6310\n",
      "Epoch 5/10\n",
      "80/80 [==============================] - 90s 1s/step - loss: 0.4283 - accuracy: 0.8496 - val_loss: 1.1556 - val_accuracy: 0.6262\n",
      "Epoch 6/10\n",
      "80/80 [==============================] - 90s 1s/step - loss: 0.2511 - accuracy: 0.9175 - val_loss: 1.3829 - val_accuracy: 0.6274\n",
      "Epoch 7/10\n",
      "80/80 [==============================] - 90s 1s/step - loss: 0.1386 - accuracy: 0.9590 - val_loss: 1.6923 - val_accuracy: 0.5817\n",
      "Epoch 8/10\n",
      "80/80 [==============================] - 90s 1s/step - loss: 0.0770 - accuracy: 0.9805 - val_loss: 2.0153 - val_accuracy: 0.6094\n",
      "Epoch 9/10\n",
      "80/80 [==============================] - 90s 1s/step - loss: 0.0860 - accuracy: 0.9695 - val_loss: 2.1751 - val_accuracy: 0.6094\n",
      "Epoch 10/10\n",
      "80/80 [==============================] - 91s 1s/step - loss: 0.0575 - accuracy: 0.9883 - val_loss: 2.4005 - val_accuracy: 0.6226\n"
     ]
    }
   ],
   "source": [
    "# Compile the model\n",
    "model.compile(optimizer='adam', loss='categorical_crossentropy', metrics=['accuracy'])\n",
    "\n",
    "# Train the model\n",
    "history = model.fit(\n",
    "    train_generator,\n",
    "    steps_per_epoch=train_generator.samples // train_generator.batch_size,\n",
    "    epochs=10,  # You can adjust the number of epochs\n",
    "    validation_data=validation_generator,\n",
    "    validation_steps=validation_generator.samples // validation_generator.batch_size\n",
    ")"
   ]
  },
  {
   "cell_type": "code",
   "execution_count": null,
   "metadata": {},
   "outputs": [],
   "source": [
    "# Load the test data\n",
    "test_images_dir = \"testing/\"\n",
    "test_image_paths = [os.path.join(test_images_dir, f) for f in os.listdir(test_images_dir) if f.endswith(('.png', '.jpg', '.jpeg'))]"
   ]
  },
  {
   "cell_type": "code",
   "execution_count": null,
   "metadata": {},
   "outputs": [],
   "source": [
    "# Preprocess test images (resize and rescale)\n",
    "test_images = np.array([np.array(Image.open(img).resize((224, 224))) / 255. for img in test_image_paths])"
   ]
  },
  {
   "cell_type": "code",
   "execution_count": null,
   "metadata": {},
   "outputs": [],
   "source": [
    "# Generate predictions for the test set\n",
    "test_predictions = model.predict(test_images)"
   ]
  },
  {
   "cell_type": "code",
   "execution_count": null,
   "metadata": {},
   "outputs": [],
   "source": [
    "# Get class labels from generator\n",
    "class_labels = list(train_generator.class_indices.keys())"
   ]
  },
  {
   "cell_type": "code",
   "execution_count": null,
   "metadata": {},
   "outputs": [],
   "source": [
    "# Convert predictions to class labels\n",
    "predicted_labels = [class_labels[np.argmax(pred)] for pred in test_predictions]"
   ]
  },
  {
   "cell_type": "code",
   "execution_count": null,
   "metadata": {},
   "outputs": [],
   "source": [
    "# Generate IDs for the test set\n",
    "test_ids = [os.path.splitext(os.path.basename(path))[0] for path in test_image_paths]"
   ]
  },
  {
   "cell_type": "code",
   "execution_count": null,
   "metadata": {},
   "outputs": [],
   "source": [
    "# Create a DataFrame for submission\n",
    "submission_df = pd.DataFrame({'ID': test_ids, 'Prediction': predicted_labels})"
   ]
  }
 ],
 "metadata": {
  "kernelspec": {
   "display_name": "Python 3",
   "language": "python",
   "name": "python3"
  },
  "language_info": {
   "codemirror_mode": {
    "name": "ipython",
    "version": 3
   },
   "file_extension": ".py",
   "mimetype": "text/x-python",
   "name": "python",
   "nbconvert_exporter": "python",
   "pygments_lexer": "ipython3",
   "version": "3.12.0"
  }
 },
 "nbformat": 4,
 "nbformat_minor": 2
}
